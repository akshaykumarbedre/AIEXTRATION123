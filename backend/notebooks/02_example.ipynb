{
 "cells": [
  {
   "cell_type": "code",
   "execution_count": 4,
   "metadata": {},
   "outputs": [
    {
     "name": "stderr",
     "output_type": "stream",
     "text": [
      "c:\\Users\\AkshayKumarBM\\miniconda3\\envs\\agent\\lib\\site-packages\\tqdm\\auto.py:21: TqdmWarning: IProgress not found. Please update jupyter and ipywidgets. See https://ipywidgets.readthedocs.io/en/stable/user_install.html\n",
      "  from .autonotebook import tqdm as notebook_tqdm\n"
     ]
    }
   ],
   "source": [
    "from langchain_google_genai import ChatGoogleGenerativeAI, GoogleGenerativeAI\n",
    "from langchain_core.messages import HumanMessage\n",
    "from dotenv import load_dotenv\n",
    "load_dotenv()\n",
    "import os \n",
    "os.environ['GOOGLE_API_KEY']=os.getenv(\"GOOGLE_API_KEY\")\n",
    "model_name=os.getenv(\"MODEL\")\n",
    "\n",
    "Model_vision=ChatGoogleGenerativeAI(model=model_name)"
   ]
  },
  {
   "cell_type": "code",
   "execution_count": 5,
   "metadata": {},
   "outputs": [],
   "source": [
    "from typing import Any, Dict, List, Union, Optional\n",
    "from pydantic import BaseModel, Field\n",
    "import re\n",
    "\n",
    "def json_to_pydantic_model(json_data: Union[List, Dict], class_name: str = \"SingleData\") -> str:\n",
    "    \"\"\"\n",
    "    Convert a list of field definitions to a Pydantic BaseModel class definition.\n",
    "    \n",
    "    Args:\n",
    "        json_data: List of field definitions [name, type, description] or dict\n",
    "        class_name: Name for the Pydantic class\n",
    "        \n",
    "    Returns:\n",
    "        String containing the Pydantic class definition\n",
    "    \"\"\"\n",
    "    # Handle list of field definitions\n",
    "    if isinstance(json_data, list):\n",
    "        fields = []\n",
    "        for field_def in json_data:\n",
    "            if len(field_def) >= 3:\n",
    "                field_name = field_def[0]\n",
    "                field_type = field_def[1]\n",
    "                description = field_def[2]\n",
    "                fields.append((field_name, field_type, description))\n",
    "            else:\n",
    "                return \"Error: Each field definition should have name, type, and description.\"\n",
    "    else:\n",
    "        return \"Error: Expected a list of field definitions.\"\n",
    "    \n",
    "    # Generate class definition\n",
    "    class_definition = [\n",
    "        \"from pydantic import BaseModel, Field\",\n",
    "        \"from typing import List, Optional, Dict, Any, Union\\n\",\n",
    "        f\"class {class_name}(BaseModel):\"\n",
    "    ]\n",
    "    \n",
    "    for field_name, field_type, description in fields:\n",
    "        # Sanitize field name to be a valid Python identifier\n",
    "        field_name = re.sub(r'\\W|^(?=\\d)', '_', field_name)\n",
    "        \n",
    "        # Add field with type annotation and Field description\n",
    "        class_definition.append(f\"    {field_name}: str = Field(default=None, description=\\\"{description}\\\")\")\n",
    "    \n",
    "    return \"\\n\".join(class_definition)\n",
    "\n"
   ]
  },
  {
   "cell_type": "code",
   "execution_count": 6,
   "metadata": {},
   "outputs": [
    {
     "name": "stdout",
     "output_type": "stream",
     "text": [
      "from pydantic import BaseModel, Field\n",
      "from typing import List, Optional, Dict, Any, Union\n",
      "\n",
      "class SingleData(BaseModel):\n",
      "    name: str = Field(default=None, description=\"name of the person\")\n",
      "    price: str = Field(default=None, description=\"price for a service \")\n",
      "    gender: str = Field(default=None, description=\"return true if he is male\")\n",
      "    list_of_sujest: str = Field(default=None, description=\"list of subjest name\")\n"
     ]
    }
   ],
   "source": [
    "# name\n",
    "#['str','int','float','bool','List[str]']\n",
    "# Disction\n",
    "\n",
    "\n",
    "json_example=[\n",
    "    [\"name\",\"str\",\"name of the person\"],\n",
    "    [\"price\",\"int\",\"price for a service \"],\n",
    "    [\"gender\",\"bool\",\"return true if he is male\"],\n",
    "    ['list of sujest',\"List[str]\",\"list of subjest name\"]\n",
    "]\n",
    "# Generate the Pydantic class code\n",
    "pydantic_class_code = json_to_pydantic_model(json_example)\n",
    "# Execute the generated code to define the class\n",
    "exec(pydantic_class_code)\n",
    "print(pydantic_class_code)\n"
   ]
  },
  {
   "cell_type": "code",
   "execution_count": 7,
   "metadata": {},
   "outputs": [],
   "source": [
    "class Final_data(BaseModel):\n",
    "    list_data: List[SingleData] = Field(description=\"List of Objest of given data\")"
   ]
  },
  {
   "cell_type": "code",
   "execution_count": 8,
   "metadata": {},
   "outputs": [],
   "source": [
    "strut_llm=Model_vision.with_structured_output(Final_data)"
   ]
  },
  {
   "cell_type": "code",
   "execution_count": 15,
   "metadata": {},
   "outputs": [],
   "source": [
    "data=\"\"\"my data  name is akahsy kumag bm \"\"\""
   ]
  },
  {
   "cell_type": "code",
   "execution_count": null,
   "metadata": {},
   "outputs": [
    {
     "data": {
      "text/plain": [
       "['my data  name is akahsy kumag bm']"
      ]
     },
     "execution_count": 16,
     "metadata": {},
     "output_type": "execute_result"
    }
   ],
   "source": [
    "from langchain.text_splitter import RecursiveCharacterTextSplitter\n",
    "spitter=RecursiveCharacterTextSplitter(chunk_size=1000, chunk_overlap=100)\n",
    "spited_data=spitter.split_text(data)\n",
    "spited_data"
   ]
  },
  {
   "cell_type": "code",
   "execution_count": 17,
   "metadata": {},
   "outputs": [],
   "source": [
    "final_result=[]\n",
    "for data in spited_data:\n",
    "    result=strut_llm.invoke(data)\n",
    "    final_result.append(result)"
   ]
  },
  {
   "cell_type": "code",
   "execution_count": 18,
   "metadata": {},
   "outputs": [],
   "source": [
    "information=[result.list_data for result in final_result]"
   ]
  },
  {
   "cell_type": "code",
   "execution_count": 19,
   "metadata": {},
   "outputs": [],
   "source": [
    "from functools import reduce\n",
    "\n",
    "flattened_list = reduce(lambda x, y: x + y, information)"
   ]
  },
  {
   "cell_type": "code",
   "execution_count": 20,
   "metadata": {},
   "outputs": [
    {
     "data": {
      "text/plain": [
       "[SingleData(name='akahsy kumag bm', price=None, gender=None, list_of_sujest=None)]"
      ]
     },
     "execution_count": 20,
     "metadata": {},
     "output_type": "execute_result"
    }
   ],
   "source": [
    "flattened_list\n"
   ]
  },
  {
   "cell_type": "code",
   "execution_count": null,
   "metadata": {},
   "outputs": [],
   "source": []
  },
  {
   "cell_type": "code",
   "execution_count": null,
   "metadata": {},
   "outputs": [],
   "source": []
  }
 ],
 "metadata": {
  "kernelspec": {
   "display_name": "agent",
   "language": "python",
   "name": "python3"
  },
  "language_info": {
   "codemirror_mode": {
    "name": "ipython",
    "version": 3
   },
   "file_extension": ".py",
   "mimetype": "text/x-python",
   "name": "python",
   "nbconvert_exporter": "python",
   "pygments_lexer": "ipython3",
   "version": "3.10.16"
  }
 },
 "nbformat": 4,
 "nbformat_minor": 2
}
